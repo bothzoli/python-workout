{
 "metadata": {
  "language_info": {
   "codemirror_mode": {
    "name": "ipython",
    "version": 3
   },
   "file_extension": ".py",
   "mimetype": "text/x-python",
   "name": "python",
   "nbconvert_exporter": "python",
   "pygments_lexer": "ipython3",
   "version": "3.9.0-final"
  },
  "orig_nbformat": 2,
  "kernelspec": {
   "name": "python3",
   "display_name": "Python 3.9.0 64-bit",
   "metadata": {
    "interpreter": {
     "hash": "63fd5069d213b44bf678585dea6b12cceca9941eaf7f819626cde1f2670de90d"
    }
   }
  }
 },
 "nbformat": 4,
 "nbformat_minor": 2,
 "cells": [
  {
   "source": [
    "# Chapter 2 - Strings\n",
    "\n",
    "## Exercise 5 - Pig Latin"
   ],
   "cell_type": "markdown",
   "metadata": {}
  },
  {
   "source": [
    "def pig_latin(word):\n",
    "    if word[0] in 'aeiou':\n",
    "        return f'{word}way'\n",
    "    else:\n",
    "        return f'{word[1:]}{word[0]}ay'\n",
    "\n",
    "print(pig_latin('air'))\n",
    "print(pig_latin('python'))\n"
   ],
   "cell_type": "code",
   "metadata": {},
   "execution_count": null,
   "outputs": []
  },
  {
   "cell_type": "code",
   "execution_count": null,
   "metadata": {},
   "outputs": [],
   "source": [
    "# Pig Latin capitalized\n",
    "def pig_latin(word):\n",
    "    if word[0] in 'aeiouAEIOU':\n",
    "        return f'{word}way'\n",
    "    else:\n",
    "        if word[0].isupper():\n",
    "            return f'{word[1:]}{word[0]}ay'.capitalize()\n",
    "        else:\n",
    "            return f'{word[1:]}{word[0]}ay'\n",
    "        # return f'{word[1].upper()}{word[2:]}{word[0].lower()}ay'\n",
    "\n",
    "print(pig_latin('Air'))\n",
    "print(pig_latin('python'))\n",
    "print(pig_latin('Python'))\n"
   ]
  },
  {
   "cell_type": "code",
   "execution_count": null,
   "metadata": {},
   "outputs": [],
   "source": [
    "# Pig Latin handling punctuation\n",
    "def pig_latin(word):\n",
    "    punctuation = \"\"\n",
    "\n",
    "    if not word[-1].isalpha():\n",
    "        punctuation = word[-1]\n",
    "        word = word[0:-1]\n",
    "    \n",
    "    if word[0] in 'aeiouAEIOU':\n",
    "        return f'{word}way{punctuation}'\n",
    "    else:\n",
    "        return f'{word[1:]}{word[0]}ay{punctuation}'\n",
    "\n",
    "print(pig_latin('Air!'))\n",
    "print(pig_latin('Python?'))\n"
   ]
  },
  {
   "cell_type": "code",
   "execution_count": null,
   "metadata": {},
   "outputs": [],
   "source": [
    "# Pig Latin revisited\n",
    "def pig_latin(word):\n",
    "    all_vowels = set(\"aeiou\")\n",
    "    contains_at_least_two_vowels = len(set(word.lower()) & all_vowels) >= 2\n",
    "\n",
    "    if contains_at_least_two_vowels:\n",
    "        return f'{word}way'\n",
    "    else:\n",
    "        return f'{word[1:]}{word[0]}ay'\n",
    "\n",
    "print(pig_latin('wine'))\n",
    "print(pig_latin('wind'))\n",
    "print(pig_latin('python'))\n"
   ]
  }
 ]
}