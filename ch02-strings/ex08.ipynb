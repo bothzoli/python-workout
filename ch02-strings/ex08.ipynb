{
 "metadata": {
  "language_info": {
   "codemirror_mode": {
    "name": "ipython",
    "version": 3
   },
   "file_extension": ".py",
   "mimetype": "text/x-python",
   "name": "python",
   "nbconvert_exporter": "python",
   "pygments_lexer": "ipython3",
   "version": "3.8.3-final"
  },
  "orig_nbformat": 2,
  "kernelspec": {
   "name": "python3",
   "display_name": "Python 3"
  }
 },
 "nbformat": 4,
 "nbformat_minor": 2,
 "cells": [
  {
   "source": [
    "# Chapter 1 - Numeric types\n",
    "\n",
    "## Exercise 8 - Sorting a string\n",
    "\n",
    "- [`sorted`](https://docs.python.org/3/library/functions.html#sorted) sorts an iterable"
   ],
   "cell_type": "markdown",
   "metadata": {}
  },
  {
   "cell_type": "code",
   "execution_count": null,
   "metadata": {},
   "outputs": [],
   "source": [
    "def strsort(a_string):\n",
    "    return ''.join(sorted(a_string))\n",
    "\n",
    "strsort('befdac')\n"
   ]
  },
  {
   "cell_type": "code",
   "execution_count": null,
   "metadata": {},
   "outputs": [],
   "source": [
    "# Sort a list of strings\n",
    "\n",
    "', '.join(sorted(\"Tom Dick Harry\".split()))\n"
   ]
  },
  {
   "cell_type": "code",
   "execution_count": null,
   "metadata": {},
   "outputs": [],
   "source": [
    "# Last word in a file\n",
    "\n",
    "def last_word_in_file(file_path):\n",
    "    return sorted(\n",
    "        (' '.join(\n",
    "            lines for lines in open(file_path)))\n",
    "        .split())[-1]\n",
    "\n",
    "last_word_in_file('input.txt')\n"
   ]
  },
  {
   "cell_type": "code",
   "execution_count": null,
   "metadata": {},
   "outputs": [],
   "source": [
    "# Longest word in a file\n",
    "\n",
    "def longest_word_in_file(file_path):\n",
    "    return sorted(\n",
    "        (' '.join(\n",
    "            lines for lines in open(file_path)))\n",
    "        .split(), key=len)[-1]\n",
    "\n",
    "longest_word_in_file('input.txt')\n"
   ]
  }
 ]
}