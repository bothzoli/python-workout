{
 "metadata": {
  "language_info": {
   "codemirror_mode": {
    "name": "ipython",
    "version": 3
   },
   "file_extension": ".py",
   "mimetype": "text/x-python",
   "name": "python",
   "nbconvert_exporter": "python",
   "pygments_lexer": "ipython3",
   "version": "3.8.3-final"
  },
  "orig_nbformat": 2,
  "kernelspec": {
   "name": "python3",
   "display_name": "Python 3"
  }
 },
 "nbformat": 4,
 "nbformat_minor": 2,
 "cells": [
  {
   "source": [
    "# Chapter 2 - Strings\n",
    "\n",
    "## Exercise 7 - Ubbi Dubbi\n",
    "\n",
    "- [`str.replace(old, new[, count])`](https://docs.python.org/3/library/stdtypes.html?#str.replace) replaces `old` with `new` in strings\n",
    "- [`str.translate(table)`](https://docs.python.org/3/library/stdtypes.html?#str.translate) "
   ],
   "cell_type": "markdown",
   "metadata": {}
  },
  {
   "cell_type": "code",
   "execution_count": null,
   "metadata": {},
   "outputs": [],
   "source": [
    "# First solution\n",
    "\n",
    "def ubbi_dubbi(word):\n",
    "    output = []\n",
    "    for letter in word:\n",
    "        if letter in 'aeiou':\n",
    "            output.append(f'ub{letter}')\n",
    "        else:\n",
    "            output.append(letter)\n",
    "\n",
    "    return ''.join(output)\n",
    "\n",
    "print(ubbi_dubbi('python'))\n",
    "print(ubbi_dubbi('octopus'))\n"
   ]
  },
  {
   "cell_type": "code",
   "execution_count": null,
   "metadata": {},
   "outputs": [],
   "source": [
    "# Ubbi Dubbi with comprehension\n",
    "\n",
    "def ubbi_dubbize(letter):\n",
    "    if letter in 'aeiou':\n",
    "        return f'ub{letter}'\n",
    "    else:\n",
    "        return letter\n",
    "\n",
    "def ubbi_dubbi_2(word):\n",
    "    return ''.join([\n",
    "        ubbi_dubbize(letter) for letter in word\n",
    "    ])\n",
    "\n",
    "print(ubbi_dubbi_2('python'))\n",
    "print(ubbi_dubbi_2('octopus'))\n"
   ]
  },
  {
   "cell_type": "code",
   "execution_count": null,
   "metadata": {},
   "outputs": [],
   "source": [
    "# Pig Latin with comprehension\n",
    "\n",
    "def pig_latin(word):\n",
    "    if word[0] in 'aeiou':\n",
    "        return f'{word}way'\n",
    "    else:\n",
    "        return f'{word[1:]}{word[0]}ay'\n",
    "\n",
    "def pl_sentence(sentence):\n",
    "    return ' '.join([\n",
    "        pig_latin(word) for word in sentence.split()\n",
    "    ])\n",
    "\n",
    "\n",
    "pl_sentence('this is a test translation')\n"
   ]
  },
  {
   "cell_type": "code",
   "execution_count": null,
   "metadata": {},
   "outputs": [],
   "source": [
    "# str.translate\n",
    "\n",
    "# map_from and map_to are matched to create a mapping table\n",
    "map_from = \"abc\"\n",
    "map_to = \"QWE\"\n",
    "# map_to_none: these characters will be removed\n",
    "map_to_none = \"xyzXYZ\"\n",
    "\n",
    "input_string = \"abcdefxyzXYZ\"\n",
    "\n",
    "# maketrans chreates the mapping table of Unicode ordinals\n",
    "tr = str.maketrans(map_from, map_to, map_to_none)\n",
    "print(tr)\n",
    "\n",
    "input_string.translate(tr)\n"
   ]
  },
  {
   "cell_type": "code",
   "execution_count": null,
   "metadata": {},
   "outputs": [],
   "source": [
    "# Capitalized Ubbi Dubbi with comprehension\n",
    "\n",
    "def ubbi_dubbize(letter):\n",
    "    if letter in 'aeiou':\n",
    "        return f'ub{letter}'\n",
    "    elif letter in 'AEIOU':\n",
    "        return f'Ub{letter.lower()}'\n",
    "    else:\n",
    "        return letter\n",
    "\n",
    "def ubbi_dubbi_2(word):\n",
    "    return ''.join([\n",
    "        ubbi_dubbize(letter) for letter in word\n",
    "    ])\n",
    "\n",
    "print(ubbi_dubbi_2('Python'))\n",
    "print(ubbi_dubbi_2('Octopus'))\n",
    "print(ubbi_dubbi_2('Eleven Octopods'))\n"
   ]
  },
  {
   "cell_type": "code",
   "execution_count": null,
   "metadata": {},
   "outputs": [],
   "source": [
    "# Remove author names\n",
    "\n",
    "def remove_name(word, author_names):\n",
    "    if word in author_names:\n",
    "        return '_'\n",
    "    else:\n",
    "        return word\n",
    "\n",
    "def remove_author_names(text, author_names):\n",
    "    return ' '.join([\n",
    "        remove_name(word, author_names) for word in text.split()\n",
    "    ])\n",
    "\n",
    "remove_author_names('this is Albert Einstein in a text and Isaac Newton', ['Albert', 'Einstein', 'Alonzo', 'Church', 'Isaac', 'Newton'])\n"
   ]
  },
  {
   "cell_type": "code",
   "execution_count": null,
   "metadata": {},
   "outputs": [],
   "source": [
    "# Naive URL encoding\n",
    "\n",
    "def url_encode(char):\n",
    "    if not char.isalnum():\n",
    "        return hex(ord(char)).replace('0x', '%')\n",
    "    else:\n",
    "        return char\n",
    "\n",
    "def url_encode_text(text):\n",
    "    return ''.join([\n",
    "        url_encode(char) for char in text\n",
    "    ])\n",
    "\n",
    "url_encode_text(\"please, encode?\")\n"
   ]
  }
 ]
}