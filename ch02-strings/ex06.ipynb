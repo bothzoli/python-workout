{
 "metadata": {
  "language_info": {
   "codemirror_mode": {
    "name": "ipython",
    "version": 3
   },
   "file_extension": ".py",
   "mimetype": "text/x-python",
   "name": "python",
   "nbconvert_exporter": "python",
   "pygments_lexer": "ipython3",
   "version": "3.8.3-final"
  },
  "orig_nbformat": 2,
  "kernelspec": {
   "name": "python3",
   "display_name": "Python 3"
  }
 },
 "nbformat": 4,
 "nbformat_minor": 2,
 "cells": [
  {
   "source": [
    "# Chapter 1 - Numeric types\n",
    "\n",
    "## Exercise 6 - Pig Latin sentence\n",
    "\n",
    "- `str.split()` splits by all whitespace characters\n",
    "- `str.split(' ')` splits by spaces\n",
    "- [`zip`](https://docs.python.org/3/library/functions.html#zip) _zips_ multiple sequences/iterables into a tuple"
   ],
   "cell_type": "markdown",
   "metadata": {}
  },
  {
   "source": [
    "def pig_latin(word):\n",
    "    if word[0] in 'aeiou':\n",
    "        return f'{word}way'\n",
    "    else:\n",
    "        return f'{word[1:]}{word[0]}ay'\n",
    "\n",
    "def pl_sentence(sentence):\n",
    "    translated = []\n",
    "    for word in sentence.split():\n",
    "        translated.append(pig_latin(word))\n",
    "    return ' '.join(translated)\n",
    "\n",
    "\n",
    "pl_sentence('this is a test translation')\n"
   ],
   "cell_type": "code",
   "metadata": {},
   "execution_count": null,
   "outputs": []
  },
  {
   "cell_type": "code",
   "execution_count": null,
   "metadata": {},
   "outputs": [],
   "source": [
    "def words_per_line(input_file_path):\n",
    "    output = []\n",
    "    for index, line in enumerate(open(input_file_path)):\n",
    "        if index >= 10:\n",
    "            break\n",
    "        \n",
    "        words = line.split()\n",
    "        if index >= len(words):\n",
    "            output.append(words[-1])\n",
    "        else:\n",
    "            output.append(words[index])\n",
    "    \n",
    "    return ' '.join(output)\n",
    "\n",
    "words_per_line('input.txt')"
   ]
  },
  {
   "cell_type": "code",
   "execution_count": null,
   "metadata": {},
   "outputs": [],
   "source": [
    "def transpose_strings(list_of_words):\n",
    "    # List comprehension for each element of the list\n",
    "    print([words for words in list_of_words])\n",
    "    \n",
    "    # Split all elemnts by whitespaces\n",
    "    print([words.split() for words in list_of_words])\n",
    "\n",
    "    # Zip lists together\n",
    "    print(zip(*[words.split() for words in list_of_words]))\n",
    "\n",
    "    # Zip lists together into tuples\n",
    "    print([t for t in zip(*[words.split() for words in list_of_words])])\n",
    "\n",
    "    # Join the zipped tuples\n",
    "    return [' '.join(t) for t in zip(*[words.split() for words in list_of_words])]\n",
    "\n",
    "transpose_strings(['abc def ghi', 'jkl mno pqr', 'stu vwx yz'])"
   ]
  }
 ]
}