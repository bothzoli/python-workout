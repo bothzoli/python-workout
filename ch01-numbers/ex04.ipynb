{
 "metadata": {
  "language_info": {
   "codemirror_mode": {
    "name": "ipython",
    "version": 3
   },
   "file_extension": ".py",
   "mimetype": "text/x-python",
   "name": "python",
   "nbconvert_exporter": "python",
   "pygments_lexer": "ipython3",
   "version": "3.8.3-final"
  },
  "orig_nbformat": 2,
  "kernelspec": {
   "name": "python3",
   "display_name": "Python 3"
  }
 },
 "nbformat": 4,
 "nbformat_minor": 2,
 "cells": [
  {
   "source": [
    "# Chapter 1 - Numeric types\n",
    "\n",
    "## Exercise 4 - Hexadecimal output\n",
    "\n",
    "- [`hex`](https://docs.python.org/3/library/functions.html?#hex) can be used hexadecimal numbers\n",
    "- [`enumerate`](https://docs.python.org/3/library/functions.html#enumerate) iterates while producing indexes\n",
    "- [`reversed`](https://docs.python.org/3/library/functions.html#reversed) reverses an iterator\n",
    "    - `list[::-1]` does the same thing\n"
   ],
   "cell_type": "markdown",
   "metadata": {}
  },
  {
   "cell_type": "code",
   "execution_count": null,
   "metadata": {},
   "outputs": [],
   "source": [
    "def hex_output(hex_input):\n",
    "    result = 0\n",
    "    for power, digit in enumerate(reversed(hex_input)):\n",
    "        result += int(digit, 16) * (16 ** power)\n",
    "    return result\n",
    "\n",
    "hex_output('50')"
   ]
  },
  {
   "cell_type": "code",
   "execution_count": null,
   "metadata": {},
   "outputs": [],
   "source": [
    "# With ord and chr\n",
    "\n",
    "def hex_output(hex_input):\n",
    "    result = 0\n",
    "    for power, digit in enumerate(reversed(hex_input)):\n",
    "        ord_digit = ord(digit)\n",
    "        if ord_digit >= 97 and ord_digit <= 102:\n",
    "            digit = ord_digit - 87\n",
    "        elif ord_digit >= 65 and ord_digit <= 70:\n",
    "            digit = ord_digit - 55\n",
    "        else:\n",
    "            digit = ord_digit - 48\n",
    "        result += digit * (16 ** power)\n",
    "    return result\n",
    "\n",
    "print(hex_output('50'))\n",
    "print(hex_output('A'))\n",
    "print(hex_output('f'))"
   ]
  },
  {
   "cell_type": "code",
   "execution_count": null,
   "metadata": {},
   "outputs": [],
   "source": [
    "def name_triangle(name):\n",
    "    for index, _ in enumerate(name):\n",
    "        print(name[:index + 1])\n",
    "\n",
    "def name_triangle_with_range(name):\n",
    "    for index in range(len(name)):\n",
    "        print(name[:index + 1])\n",
    "\n",
    "name_triangle('Albert Einstein')\n",
    "name_triangle_with_range('Albert Einstein')"
   ]
  }
 ]
}