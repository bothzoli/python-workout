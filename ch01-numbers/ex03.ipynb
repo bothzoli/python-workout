{
 "metadata": {
  "language_info": {
   "codemirror_mode": {
    "name": "ipython",
    "version": 3
   },
   "file_extension": ".py",
   "mimetype": "text/x-python",
   "name": "python",
   "nbconvert_exporter": "python",
   "pygments_lexer": "ipython3",
   "version": "3.8.3-final"
  },
  "orig_nbformat": 2,
  "kernelspec": {
   "name": "python3",
   "display_name": "Python 3"
  }
 },
 "nbformat": 4,
 "nbformat_minor": 2,
 "cells": [
  {
   "source": [
    "# Chapter 1 - Numeric types\n",
    "\n",
    "## Exercise 3 - Run timing\n",
    "\n",
    "- [Decimal](https://docs.python.org/3.9/library/decimal.html) can be used for arbitrary precision"
   ],
   "cell_type": "markdown",
   "metadata": {}
  },
  {
   "cell_type": "code",
   "execution_count": null,
   "metadata": {},
   "outputs": [],
   "source": [
    "run_times = []\n",
    "\n",
    "while True:\n",
    "    try:\n",
    "        run_time_str = input(\"Enter 10 km run time: \")\n",
    "\n",
    "        if run_time_str == '':\n",
    "            break\n",
    "\n",
    "        print(f'You ran {run_time_str}')\n",
    "\n",
    "        run_times.append(float(run_time_str))\n",
    "    except ValueError:\n",
    "        print(\"Invalid value\")\n",
    "\n",
    "print(f'Average of {(sum(run_times) / len(run_times)):.2f} over {len(run_times)} runs')"
   ]
  },
  {
   "cell_type": "code",
   "execution_count": null,
   "metadata": {},
   "outputs": [],
   "source": [
    "# Official solution\n",
    "def run_timing():\n",
    "    number_of_runs = 0\n",
    "    total_time = 0\n",
    "\n",
    "    while True:\n",
    "        one_run = input(\"Enter 10 km run time: \")\n",
    "\n",
    "        if not one_run:\n",
    "            break\n",
    "\n",
    "        number_of_runs += 1\n",
    "        total_time += float(one_run)\n",
    "\n",
    "    print(f'Average of {(total_time / number_of_runs):.2f} over {number_of_runs} runs')\n",
    "\n",
    "run_timing()"
   ]
  },
  {
   "cell_type": "code",
   "execution_count": null,
   "metadata": {},
   "outputs": [],
   "source": [
    "# Before/after\n",
    "\n",
    "def before_after(my_float, before, after):\n",
    "    float_as_str = str(my_float)\n",
    "    dot = float_as_str.index('.')\n",
    "\n",
    "    return float(float_as_str[dot - before:dot + after + 1])\n",
    "\n",
    "before_after(1234.5678, 2, 3)"
   ]
  },
  {
   "cell_type": "code",
   "execution_count": null,
   "metadata": {},
   "outputs": [],
   "source": [
    "from decimal import Decimal\n",
    "\n",
    "def sum_of_two_str(first, second):\n",
    "    return float(Decimal(first) + Decimal(second))\n",
    "\n",
    "sum_of_two_str('0.1', '0.2')"
   ]
  }
 ]
}