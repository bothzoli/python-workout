{
 "cells": [
  {
   "cell_type": "markdown",
   "metadata": {},
   "source": [
    "# Chapter 1 - Numeric types\n",
    "\n",
    "## Exercise 1 - Number guessing game\n",
    "\n",
    "- `random.randint` returns an integer in the _inclusive_ range given (i.e. `random.randint(1,100)` returns between and including 1 to 100)\n",
    "- `input()` always returns a string (even if nothing is entered)\n",
    "- if a string is passed to `int()` that can be parsed as an integer a `ValueError` is raised\n",
    "- `str.isdigit` can be used to check if the input is a number\n",
    "- PEP 572 defines assignment expressions (e.g. the _walrus_ operator `:=`)\n",
    "\n",
    "### References\n",
    "\n",
    "- `random.randint` - https://docs.python.org/3/library/random.html#random.randint\n",
    "- `input` - https://docs.python.org/3/library/functions.html#input\n",
    "- PEP 572 - https://www.python.org/dev/peps/pep-0572/"
   ]
  },
  {
   "cell_type": "code",
   "execution_count": null,
   "metadata": {},
   "outputs": [],
   "source": [
    "# First solution\n",
    "\n",
    "import random\n",
    "\n",
    "def guessing_game():\n",
    "    number = random.randint(1, 100)\n",
    "\n",
    "    print(f'The solution is {number}')\n",
    "    guess = -1\n",
    "\n",
    "    while (number != guess):\n",
    "        guess = int(input(\"Enter your guess: \"))\n",
    "\n",
    "        if guess < number:\n",
    "            print(f'{guess} is too low!')\n",
    "        elif guess > number:\n",
    "            print(f'{guess} is too high!')\n",
    "        else:\n",
    "            print(f'Spot on!')\n",
    "\n",
    "guessing_game()\n"
   ]
  },
  {
   "cell_type": "code",
   "execution_count": null,
   "metadata": {},
   "outputs": [],
   "source": [
    "# Solution using the walrus operator\n",
    "\n",
    "import random\n",
    "\n",
    "def guessing_game():\n",
    "    number = random.randint(1, 100)\n",
    "    print(f'The solution is {number}')\n",
    "\n",
    "    def guess_number():\n",
    "        while True:\n",
    "            try:\n",
    "                guess = int(input(\"Enter your guess: \"))\n",
    "                return guess\n",
    "            except ValueError:\n",
    "                print(\"Invalid value\")\n",
    "\n",
    "    while (number != (guess := guess_number())):\n",
    "        if guess < number:\n",
    "            print(f'{guess} is too low!')\n",
    "        elif guess > number:\n",
    "            print(f'{guess} is too high!')\n",
    "        else:\n",
    "            pass\n",
    "    \n",
    "    print(f'Spot on!')\n",
    "\n",
    "guessing_game()\n"
   ]
  },
  {
   "cell_type": "code",
   "execution_count": null,
   "metadata": {},
   "outputs": [],
   "source": [
    "# Solution with maximum guesses\n",
    "\n",
    "import random\n",
    "\n",
    "def guessing_game():\n",
    "    number = random.randint(1, 100)\n",
    "    print(f'The solution is {number}')\n",
    "    guess = -1\n",
    "\n",
    "    max_guesses = 3\n",
    "    no_of_guesses = 0\n",
    "\n",
    "    while (no_of_guesses < max_guesses and number != guess):\n",
    "        print(f'Number of guesses remainig: {max_guesses - no_of_guesses}')\n",
    "        guess = int(input(\"Enter your guess: \"))\n",
    "\n",
    "        if guess < number:\n",
    "            print(f'{guess} is too low!')\n",
    "        elif guess > number:\n",
    "            print(f'{guess} is too high!')\n",
    "        else:\n",
    "            print(f'Spot on!')\n",
    "        \n",
    "        no_of_guesses += 1\n",
    "    \n",
    "    if no_of_guesses == max_guesses:\n",
    "        print('Sorry, you failed to guess in time!')\n",
    "\n",
    "guessing_game()\n"
   ]
  },
  {
   "cell_type": "code",
   "execution_count": null,
   "metadata": {},
   "outputs": [],
   "source": [
    "# Solution with bases\n",
    "\n",
    "import random\n",
    "\n",
    "def guessing_game():\n",
    "    base = random.choice([2, 8, 10, 16])\n",
    "    number = random.randint(1, 100)\n",
    "    print(f'The solution is {number} in base {base}')\n",
    "    guess = -1\n",
    "\n",
    "    while number != guess:\n",
    "        try:\n",
    "            guess = int(input(\"Enter your guess: \"), base)\n",
    "\n",
    "            if guess < number:\n",
    "                print(f'{guess} is too low!')\n",
    "            elif guess > number:\n",
    "                print(f'{guess} is too high!')\n",
    "            else:\n",
    "                print(f'Spot on!')\n",
    "        except ValueError as err:\n",
    "            print(f\"Invalid input, guess again ({err})\")\n",
    "\n",
    "guessing_game()\n"
   ]
  },
  {
   "cell_type": "code",
   "execution_count": null,
   "metadata": {},
   "outputs": [],
   "source": [
    "# Guess a word\n",
    "\n",
    "import random\n",
    "\n",
    "words = [\"a\", \"america\", \"among\", \"and\", \"another\", \"assume\", \"bands\", \"becomes\", \"causes\", \"connected\", \"course\", \"decent\", \"declaration\", \"declare\", \"dissolve\", \"earth\", \"entitle\", \"equal\", \"events\", \"for\", \"god\", \"have\", \"human\", \"impel\", \"in\", \"it\", \"laws\", \"mankind\", \"nature\", \"nature\", \"necessary\", \"of\", \"one\", \"opinions\", \"people\", \"political\", \"powers\", \"requires\", \"respect\", \"separate\", \"separation\", \"should\", \"states\", \"station\", \"that\", \"the\", \"they\", \"thirteen\", \"to\", \"unanimous\", \"united\", \"when\", \"which\", \"with\"]\n",
    "\n",
    "def guessing_game():\n",
    "    word = random.choice(words)\n",
    "\n",
    "    print(f'The solution is {word}')\n",
    "    guess = \"\"\n",
    "\n",
    "    while (word != guess):\n",
    "        guess = input(\"Enter your guess: \")\n",
    "\n",
    "        if guess < word:\n",
    "            print(f'{guess} is before the actual!')\n",
    "        elif guess > word:\n",
    "            print(f'{guess} is after the actual!')\n",
    "        else:\n",
    "            print(f'Spot on!')\n",
    "\n",
    "guessing_game()\n"
   ]
  },
  {
   "cell_type": "code",
   "execution_count": 1,
   "metadata": {},
   "outputs": [
    {
     "output_type": "execute_result",
     "data": {
      "text/plain": [
       "'Hello, Albert######|    Einstein'"
      ]
     },
     "metadata": {},
     "execution_count": 1
    }
   ],
   "source": [
    "# Padding with f-strings\n",
    "\n",
    "first = 'Albert'\n",
    "last = 'Einstein'\n",
    "\n",
    "# Align and pad text\n",
    "f'Hello, {first:#<12}|{last:>12}'\n"
   ]
  }
 ],
 "metadata": {
  "kernelspec": {
   "display_name": "Python 3",
   "language": "python",
   "name": "python3"
  },
  "language_info": {
   "codemirror_mode": {
    "name": "ipython",
    "version": 3
   },
   "file_extension": ".py",
   "mimetype": "text/x-python",
   "name": "python",
   "nbconvert_exporter": "python",
   "pygments_lexer": "ipython3",
   "version": "3.8.3-final"
  }
 },
 "nbformat": 4,
 "nbformat_minor": 2
}