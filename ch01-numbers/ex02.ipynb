{
 "metadata": {
  "language_info": {
   "codemirror_mode": {
    "name": "ipython",
    "version": 3
   },
   "file_extension": ".py",
   "mimetype": "text/x-python",
   "name": "python",
   "nbconvert_exporter": "python",
   "pygments_lexer": "ipython3",
   "version": "3.9.0-final"
  },
  "orig_nbformat": 2,
  "kernelspec": {
   "name": "python3",
   "display_name": "Python 3.9.0 64-bit ('.venv')",
   "metadata": {
    "interpreter": {
     "hash": "5e519e960a292114e684199f2f1187d840f876a58a113338fe78cbcb4365c5f2"
    }
   }
  }
 },
 "nbformat": 4,
 "nbformat_minor": 2,
 "cells": [
  {
   "source": [
    "# Chapter 1 - Numeric types\n",
    "\n",
    "## Exercise 2 - Summing numbers\n",
    "\n",
    "- prefixing an input parameter with `*` will splat them into a tuple\n",
    "    - can only be used for the last parameter\n",
    "    - or further parameters need to be named parameters\n"
   ],
   "cell_type": "markdown",
   "metadata": {}
  },
  {
   "cell_type": "code",
   "execution_count": null,
   "metadata": {},
   "outputs": [],
   "source": [
    "# First solution\n",
    "\n",
    "def mysum(*numbers):\n",
    "    print(type(numbers))\n",
    "    result = 0\n",
    "    for num in numbers:\n",
    "        result += num\n",
    "    return result\n",
    "\n",
    "print(mysum(1, 2, 3, 4))\n",
    "\n",
    "print(mysum(*[10, 20, 30, 40]))\n"
   ]
  },
  {
   "cell_type": "code",
   "execution_count": null,
   "metadata": {},
   "outputs": [],
   "source": [
    "# Solution with base\n",
    "\n",
    "def mysum(*numbers, base = 0):\n",
    "    result = base\n",
    "    for num in numbers:\n",
    "        result += num\n",
    "    return result\n",
    "\n",
    "print(mysum(1, 2, 3, 4, base=10))\n",
    "\n",
    "print(mysum(*[10, 20, 30, 40], base=100))\n"
   ]
  },
  {
   "cell_type": "code",
   "execution_count": null,
   "metadata": {},
   "outputs": [],
   "source": [
    "# Solution for average\n",
    "\n",
    "def myaverage(*numbers):\n",
    "    result = 0\n",
    "    for num in numbers:\n",
    "        result += num\n",
    "    return result / len(numbers)\n",
    "\n",
    "print(myaverage(1, 2, 3, 4))\n",
    "\n",
    "print(myaverage(*[10, 20, 30, 40]))\n"
   ]
  },
  {
   "cell_type": "code",
   "execution_count": null,
   "metadata": {},
   "outputs": [],
   "source": [
    "# Word stats\n",
    "\n",
    "def word_stats(*words):\n",
    "    min_length = 999999\n",
    "    max_length = 0\n",
    "    sum_length = 0\n",
    "    for word in words:\n",
    "        sum_length += len(word)\n",
    "\n",
    "        if len(word) < min_length:\n",
    "            min_length = len(word)\n",
    "        \n",
    "        if len(word) > max_length:\n",
    "            max_length = len(word)\n",
    "    \n",
    "    avg_length = sum_length / len(words)    \n",
    "    return (min_length, avg_length, max_length)\n",
    "\n",
    "print(word_stats(\"a\", \"bb\", \"ccc\", \"dddd\"))\n"
   ]
  },
  {
   "cell_type": "code",
   "execution_count": null,
   "metadata": {},
   "outputs": [],
   "source": [
    "# Sum objects\n",
    "\n",
    "def mysum(*objs):\n",
    "    result = 0\n",
    "    for obj in objs:\n",
    "        print(type(obj))\n",
    "        try:\n",
    "            num = int(obj)\n",
    "            result += num\n",
    "        except:\n",
    "            pass\n",
    "    return result\n",
    "\n",
    "print(mysum(1, '2', \"asdf\", { 3 }, [ 4 ]))\n"
   ]
  }
 ]
}