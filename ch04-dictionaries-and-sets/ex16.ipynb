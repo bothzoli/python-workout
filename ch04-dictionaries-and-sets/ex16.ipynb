{
 "metadata": {
  "language_info": {
   "codemirror_mode": {
    "name": "ipython",
    "version": 3
   },
   "file_extension": ".py",
   "mimetype": "text/x-python",
   "name": "python",
   "nbconvert_exporter": "python",
   "pygments_lexer": "ipython3",
   "version": "3.8.5-final"
  },
  "orig_nbformat": 2,
  "kernelspec": {
   "name": "python3",
   "display_name": "Python 3",
   "language": "python"
  }
 },
 "nbformat": 4,
 "nbformat_minor": 2,
 "cells": [
  {
   "source": [
    "# Chapter 4 - Dictionaries and sets"
   ],
   "cell_type": "markdown",
   "metadata": {}
  },
  {
   "cell_type": "code",
   "execution_count": null,
   "metadata": {},
   "outputs": [],
   "source": [
    "# dictdiff\n",
    "\n",
    "def dictdiff(dic1, dic2):\n",
    "    result_dict = {}\n",
    "    all_keys = dic1.keys() | dic2.keys()\n",
    "\n",
    "    for key in all_keys:\n",
    "        if dic1.get(key) != dic2.get(key):\n",
    "            result_dict[key] = [dic1.get(key), dic2.get(key)]\n",
    "    \n",
    "    return result_dict\n",
    "\n",
    "print(dictdiff({\"a\": 1, \"b\": 2, \"c\": 3}, {\"a\": 1, \"b\": 2, \"c\": 3}))\n",
    "print(dictdiff({\"a\": 1, \"b\": 2, \"c\": 3}, {\"a\": 1, \"b\": 2, \"c\": 4}))\n",
    "print(dictdiff({\"a\": 1, \"b\": 2, \"d\": 3}, {\"a\": 1, \"b\": 2, \"c\": 4}))\n",
    "print(dictdiff({\"a\": 1, \"b\": 2, \"c\": 3}, {\"a\": 1, \"b\": 2, \"d\": 4}))\n"
   ]
  },
  {
   "cell_type": "code",
   "execution_count": null,
   "metadata": {},
   "outputs": [],
   "source": [
    "def merge_dicts(*dicts):\n",
    "    result = {}\n",
    "    for dict in dicts:\n",
    "        result.update(dict)\n",
    "    return result\n",
    "\n",
    "print(merge_dicts({\"a\": 1}, {\"b\": 2}, {\"a\": 3, \"c\": 4}))"
   ]
  },
  {
   "cell_type": "code",
   "execution_count": null,
   "metadata": {},
   "outputs": [],
   "source": [
    "def create_dict(*args):\n",
    "    if len(args) % 2 != 0:\n",
    "        return {}\n",
    "    \n",
    "    result = {}\n",
    "    while args:\n",
    "        result[args[0]] = args[1]\n",
    "        args = args[2:]\n",
    "    \n",
    "    return result\n",
    "\n",
    "create_dict(\"a\", 1, \"b\", 2)"
   ]
  },
  {
   "cell_type": "code",
   "execution_count": null,
   "metadata": {},
   "outputs": [],
   "source": [
    "def partition_dict(d, f):\n",
    "    d_true = {}\n",
    "    d_false = {}\n",
    "    for key, value in d.items():\n",
    "        if f(key, value):\n",
    "            d_true[key] = value\n",
    "        else:\n",
    "            d_false[key] = value\n",
    "    \n",
    "    return d_true, d_false\n",
    "\n",
    "partition_dict({1: 1, 2: 3}, lambda k, v: k == v)"
   ]
  }
 ]
}