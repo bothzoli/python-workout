{
 "metadata": {
  "language_info": {
   "codemirror_mode": {
    "name": "ipython",
    "version": 3
   },
   "file_extension": ".py",
   "mimetype": "text/x-python",
   "name": "python",
   "nbconvert_exporter": "python",
   "pygments_lexer": "ipython3",
   "version": "3.8.3-final"
  },
  "orig_nbformat": 2,
  "kernelspec": {
   "name": "python3",
   "display_name": "Python 3",
   "language": "python"
  }
 },
 "nbformat": 4,
 "nbformat_minor": 2,
 "cells": [
  {
   "source": [
    "# Chapter 4 - Dictionaries and sets"
   ],
   "cell_type": "markdown",
   "metadata": {}
  },
  {
   "cell_type": "code",
   "execution_count": null,
   "metadata": {},
   "outputs": [],
   "source": [
    "# Rainfall\n",
    "\n",
    "def get_rainfall():\n",
    "    rainfall = {}\n",
    "\n",
    "    while True:\n",
    "        city = input(\"Enter a city name\")\n",
    "\n",
    "        if not city:\n",
    "            break\n",
    "\n",
    "        rainfall[city] = rainfall.get(city, 0) + int(input(\"Enter rainfall\"))\n",
    "\n",
    "    for city, rain in rainfall.items():\n",
    "        print(f\"{city}: {rain}\")\n",
    "\n",
    "get_rainfall()\n"
   ]
  },
  {
   "cell_type": "code",
   "execution_count": null,
   "metadata": {},
   "outputs": [],
   "source": [
    "def get_rainfall():\n",
    "    rainfall = {}\n",
    "\n",
    "    while True:\n",
    "        city = input(\"Enter a city name\")\n",
    "\n",
    "        if not city:\n",
    "            break\n",
    "\n",
    "        rainfall[city] = rainfall.get(city, []) + [int(input(\"Enter rainfall\"))]\n",
    "\n",
    "    for city, rain in rainfall.items():\n",
    "        print(f\"{city}: Total = {rain}, Average = {sum(rain) / len(rain)}\")\n",
    "\n",
    "get_rainfall()\n"
   ]
  },
  {
   "cell_type": "code",
   "execution_count": null,
   "metadata": {},
   "outputs": [],
   "source": [
    "def log_file(file_path):\n",
    "    ips = {}\n",
    "    for line in open(file_path):\n",
    "        ips[line.split(\" \")[8]] = ips.get(line.split(\" \")[8], []) + line.split(\" \")[:1]\n",
    "    \n",
    "    for status, ip in ips.items():\n",
    "        print(f\"{status}: {ip}\")\n",
    "\n",
    "\n",
    "log_file(\"apache.log\")\n"
   ]
  },
  {
   "cell_type": "code",
   "execution_count": null,
   "metadata": {},
   "outputs": [],
   "source": [
    "def words_in_file(file_path):\n",
    "    words = {}\n",
    "    for line in open(file_path):\n",
    "        for word_in_line in line.split(\" \"):\n",
    "            words[len(word_in_line)] = words.get(len(word_in_line), 0) + 1\n",
    "    \n",
    "    for word_length, word_count in words.items():\n",
    "        print(f\"{word_length}: {word_count}\")\n",
    "\n",
    "words_in_file('input.txt')\n"
   ]
  }
 ]
}