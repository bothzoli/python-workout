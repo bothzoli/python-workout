{
 "metadata": {
  "language_info": {
   "codemirror_mode": {
    "name": "ipython",
    "version": 3
   },
   "file_extension": ".py",
   "mimetype": "text/x-python",
   "name": "python",
   "nbconvert_exporter": "python",
   "pygments_lexer": "ipython3",
   "version": "3.8.5-final"
  },
  "orig_nbformat": 2,
  "kernelspec": {
   "name": "python3",
   "display_name": "Python 3.8.5 64-bit ('python-workout': conda)",
   "metadata": {
    "interpreter": {
     "hash": "f48eca38a5783fbd6b66869f16645750b6238a549f9af6c82471d122ee8534c8"
    }
   }
  }
 },
 "nbformat": 4,
 "nbformat_minor": 2,
 "cells": [
  {
   "source": [
    "# Chapter 4 - Dictionaries and sets\n",
    "\n",
    "- Dictionaries store key-value pairs\n",
    "    - key can be anything that is _hashable_ (`hash('a')`)\n",
    "- Sets are like dictionaries without values"
   ],
   "cell_type": "markdown",
   "metadata": {}
  },
  {
   "cell_type": "code",
   "execution_count": null,
   "metadata": {},
   "outputs": [],
   "source": [
    "MENU = {\n",
    "    'sandwich': 10,\n",
    "    'tea': 7,\n",
    "    'salad': 9\n",
    "}\n",
    "\n",
    "def restaurant():\n",
    "    total = 0\n",
    "\n",
    "    while True:\n",
    "        order = input('Order: ')\n",
    "\n",
    "        if not order:\n",
    "            break\n",
    "\n",
    "        if order in MENU:\n",
    "            total += MENU[order]\n",
    "            print(f'{order} costs {MENU[order]}, total is {total}')\n",
    "        else:\n",
    "            print(f'Sorry, we are fresh out of {order} today.')\n",
    "\n",
    "    print(f'Your total is {total}')\n",
    "    \n",
    "restaurant()"
   ]
  },
  {
   "cell_type": "code",
   "execution_count": null,
   "metadata": {},
   "outputs": [],
   "source": [
    "USERS = {\n",
    "    'albert': 'einstein',\n",
    "    'isaac': 'newton',\n",
    "    'admin': 'password'\n",
    "}\n",
    "\n",
    "def login():\n",
    "    user = input('Username: ')\n",
    "    password = input('Password: ')\n",
    "\n",
    "    if password == USERS.get(user):\n",
    "        print('Successfully logged in')\n",
    "    else:\n",
    "        print('Invalid username/password')\n",
    "\n",
    "    \n",
    "login()"
   ]
  },
  {
   "cell_type": "code",
   "execution_count": null,
   "metadata": {},
   "outputs": [],
   "source": [
    "TEMPERATURE = {\n",
    "    '0101': 1,\n",
    "    '0102': 2,\n",
    "    '0103': 3,\n",
    "    '0104': 4,\n",
    "    '0105': 5,\n",
    "}\n",
    "\n",
    "def get_temperature():\n",
    "    requested_date = input('Date: ')\n",
    "\n",
    "    if requested_date in TEMPERATURE:\n",
    "        print(f'It was {TEMPERATURE[requested_date]} on {requested_date}')\n",
    "    else:\n",
    "        print('No data for that date')\n",
    "\n",
    "    \n",
    "get_temperature()"
   ]
  },
  {
   "cell_type": "code",
   "execution_count": null,
   "metadata": {},
   "outputs": [],
   "source": [
    "from datetime import date\n",
    "\n",
    "PEOPLE = {\n",
    "    'Einstein': date.fromisoformat('1879-03-14'),\n",
    "    'Newton': date.fromisoformat('1643-01-04')\n",
    "}\n",
    "\n",
    "def get_days_old():\n",
    "    name = input('Name: ')\n",
    "\n",
    "    if name in PEOPLE:\n",
    "        print(f'{name} is {(date.today() - PEOPLE[name]).days} days old')\n",
    "    else:\n",
    "        print('Invalid name')\n",
    "\n",
    "    \n",
    "get_days_old()"
   ]
  }
 ]
}