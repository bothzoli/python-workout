{
 "metadata": {
  "language_info": {
   "codemirror_mode": {
    "name": "ipython",
    "version": 3
   },
   "file_extension": ".py",
   "mimetype": "text/x-python",
   "name": "python",
   "nbconvert_exporter": "python",
   "pygments_lexer": "ipython3",
   "version": "3.8.5-final"
  },
  "orig_nbformat": 2,
  "kernelspec": {
   "name": "python3",
   "display_name": "Python 3",
   "language": "python"
  }
 },
 "nbformat": 4,
 "nbformat_minor": 2,
 "cells": [
  {
   "source": [
    "# Chapter 4 - Dictionaries and sets"
   ],
   "cell_type": "markdown",
   "metadata": {}
  },
  {
   "cell_type": "code",
   "execution_count": null,
   "metadata": {},
   "outputs": [],
   "source": [
    "def how_many_different_numbers(numbers):\n",
    "    return len(set(numbers))\n",
    "\n",
    "numbers = [1, 2, 3, 1, 2, 3, 4, 1]\n",
    "how_many_different_numbers(numbers)\n"
   ]
  },
  {
   "cell_type": "code",
   "execution_count": null,
   "metadata": {},
   "outputs": [],
   "source": [
    "def how_many_different_numbers(numbers):\n",
    "    return len({*numbers})\n",
    "\n",
    "numbers = [1, 2, 3, 1, 2, 3, 4, 1]\n",
    "how_many_different_numbers(numbers)\n"
   ]
  },
  {
   "cell_type": "code",
   "execution_count": null,
   "metadata": {},
   "outputs": [],
   "source": [
    "def how_many_different_ips(file_path):\n",
    "    return len({*[line.split(\" \")[0] for line in open(file_path)]})\n",
    "\n",
    "how_many_different_ips(\"apache.log\")\n"
   ]
  },
  {
   "cell_type": "code",
   "execution_count": null,
   "metadata": {},
   "outputs": [],
   "source": [
    "def how_many_different_responses(file_path):\n",
    "    return {*[line.split(\" \")[8] for line in open(file_path)]}\n",
    "\n",
    "how_many_different_responses(\"apache.log\")\n"
   ]
  },
  {
   "cell_type": "code",
   "execution_count": null,
   "metadata": {},
   "outputs": [],
   "source": [
    "def get_extensions():\n",
    "    return {*[file.split(\".\")[-1] for file in os.listdir()]}\n",
    "\n",
    "get_extensions()\n"
   ]
  }
 ]
}