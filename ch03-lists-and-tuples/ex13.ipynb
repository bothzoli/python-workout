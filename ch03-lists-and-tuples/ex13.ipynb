{
 "metadata": {
  "language_info": {
   "codemirror_mode": {
    "name": "ipython",
    "version": 3
   },
   "file_extension": ".py",
   "mimetype": "text/x-python",
   "name": "python",
   "nbconvert_exporter": "python",
   "pygments_lexer": "ipython3",
   "version": "3.8.3-final"
  },
  "orig_nbformat": 2,
  "kernelspec": {
   "name": "python3",
   "display_name": "Python 3"
  }
 },
 "nbformat": 4,
 "nbformat_minor": 2,
 "cells": [
  {
   "source": [
    "# Chapter 3 - Lists and Tuples\n",
    "\n",
    "## Exercise 13 - Printing tuple records\n",
    "\n",
    "- [named tuples](https://docs.python.org/3/library/collections.html#collections.namedtuple) provide a way of accessing tuple values by name instead of indexing"
   ],
   "cell_type": "markdown",
   "metadata": {}
  },
  {
   "cell_type": "code",
   "execution_count": null,
   "metadata": {},
   "outputs": [],
   "source": [
    "print('{0}'.format(\"Formatted print\"))\n",
    "print('{0:#>15.2f}'.format(12.3456))\n",
    "print('{0:_<15}'.format(\"Padded\"))\n"
   ]
  },
  {
   "cell_type": "code",
   "execution_count": null,
   "metadata": {},
   "outputs": [],
   "source": [
    "from operator import itemgetter\n",
    "\n",
    "PEOPLE = [('Donald', 'Trump', 7.85),\n",
    "         ('Vladimir', 'Putin', 3.626),\n",
    "         ('Jinping', 'Xi', 10.603)]\n",
    "\n",
    "def format_sort_records(people):\n",
    "    template = '{1: <10} {0: <10} {2: >5.2f}'\n",
    "    return '\\n'.join(\n",
    "        template.format(*person) for person in\n",
    "        sorted(people, key=itemgetter(2)))\n",
    "\n",
    "print(format_sort_records(PEOPLE))\n"
   ]
  },
  {
   "cell_type": "code",
   "execution_count": null,
   "metadata": {},
   "outputs": [],
   "source": [
    "from collections import namedtuple\n",
    "from operator import attrgetter\n",
    "\n",
    "WorldLeader = namedtuple('WorldLeader', ['FirstName', 'LastName', 'Distance'])\n",
    "\n",
    "PEOPLE = [WorldLeader('Donald', 'Trump', 7.85),\n",
    "         WorldLeader('Vladimir', 'Putin', 3.626),\n",
    "         WorldLeader('Jinping', 'Xi', 10.603)]\n",
    "\n",
    "def format_sort_records(people):\n",
    "    template = '{FirstName: <10} {LastName: <10} {Distance: >5.2f}'\n",
    "    return '\\n'.join(\n",
    "        template.format(**person._asdict()) for person in\n",
    "        sorted(people, key=attrgetter('Distance')))\n",
    "\n",
    "print(format_sort_records(PEOPLE))"
   ]
  },
  {
   "cell_type": "code",
   "execution_count": null,
   "metadata": {},
   "outputs": [],
   "source": [
    "from collections import namedtuple\n",
    "from operator import attrgetter\n",
    "\n",
    "Movie = namedtuple('Movie', ['Title', 'Length', 'Director'])\n",
    "\n",
    "MOVIES = [Movie('Parasite', 132, 'Bong Joon-ho'),\n",
    "          Movie('Ford v Ferrari', 152, 'James Mangold'),\n",
    "          Movie('The Irishman', 209, 'Martin Scorsese'),\n",
    "          Movie('Jojo Rabbit', 108, 'Taika Waititi'),\n",
    "          Movie('Joker', 122, 'Todd Phillips'),\n",
    "          Movie('Little Women', 135, 'Greta Gerwig'),\n",
    "          Movie('Marriage Story', 137, 'Noah Baumbach'),\n",
    "          Movie('1917', 119, 'Sam Mendes'),\n",
    "          Movie('Once Upon a Time in Hollywood', 161, 'Quentin Tarantino')]\n",
    "\n",
    "def sort_movies():\n",
    "    sort_by = input('What to sort by (Title, Length, Director)?')\n",
    "\n",
    "    template = '{Director: <17} - {Title: <29} ({Length: >3} min)'\n",
    "    return '\\n'.join(\n",
    "        template.format(**movie._asdict()) for movie in\n",
    "        sorted(MOVIES, key=attrgetter(sort_by)))\n",
    "\n",
    "print(sort_movies())\n"
   ]
  },
  {
   "cell_type": "code",
   "execution_count": null,
   "metadata": {},
   "outputs": [],
   "source": [
    "from collections import namedtuple\n",
    "from operator import attrgetter\n",
    "\n",
    "Movie = namedtuple('Movie', ['Title', 'Length', 'Director'])\n",
    "\n",
    "MOVIES = [Movie('Parasite', 132, 'Bong Joon-ho'),\n",
    "          Movie('Ford v Ferrari', 152, 'James Mangold'),\n",
    "          Movie('The Irishman', 209, 'Martin Scorsese'),\n",
    "          Movie('Jojo Rabbit', 108, 'Taika Waititi'),\n",
    "          Movie('Joker', 122, 'Todd Phillips'),\n",
    "          Movie('Little Women', 135, 'Greta Gerwig'),\n",
    "          Movie('Marriage Story', 137, 'Noah Baumbach'),\n",
    "          Movie('1917', 119, 'Sam Mendes'),\n",
    "          Movie('Once Upon a Time in Hollywood', 161, 'Quentin Tarantino')]\n",
    "\n",
    "def sort_movies():\n",
    "    sort_by = input('What to sort by (Title, Length, Director)?').split(',')\n",
    "\n",
    "    template = '{Director: <17} - {Title: <29} ({Length: >3} min)'\n",
    "    return '\\n'.join(\n",
    "        template.format(**movie._asdict()) for movie in\n",
    "        sorted(MOVIES, key=attrgetter(*sort_by)))\n",
    "\n",
    "print(sort_movies())\n"
   ]
  }
 ]
}