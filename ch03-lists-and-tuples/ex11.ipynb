{
 "metadata": {
  "language_info": {
   "codemirror_mode": {
    "name": "ipython",
    "version": 3
   },
   "file_extension": ".py",
   "mimetype": "text/x-python",
   "name": "python",
   "nbconvert_exporter": "python",
   "pygments_lexer": "ipython3",
   "version": "3.9.0-final"
  },
  "orig_nbformat": 2,
  "kernelspec": {
   "name": "python3",
   "display_name": "Python 3.9.0 64-bit",
   "metadata": {
    "interpreter": {
     "hash": "c35cf05d645230916840c7e5143c8d8b7ef9951402306ec83266c2ef07dd9f84"
    }
   }
  }
 },
 "nbformat": 4,
 "nbformat_minor": 2,
 "cells": [
  {
   "source": [
    "# Chapter 3 - Lists and Tuples\n",
    "\n",
    "## Exercise 11 - Alphabetizing names"
   ],
   "cell_type": "markdown",
   "metadata": {}
  },
  {
   "cell_type": "code",
   "execution_count": null,
   "metadata": {},
   "outputs": [],
   "source": [
    "from operator import itemgetter\n",
    "\n",
    "PEOPLE = [{'first':'Reuven', 'last':'Lerner', 'email':'reuven@lerner.co.il'},\n",
    "    {'first':'Donald', 'last':'Trump', 'email':'president@whitehouse.gov'},\n",
    "    {'first':'Vladimir', 'last':'Putin', 'email':'president@kremvax.ru'}]\n",
    "\n",
    "def alphabetize_names(people):\n",
    "    return sorted(people, key=lambda person: [person['last'], person['first']])\n",
    "\n",
    "def multisort_names(people):\n",
    "    return sorted(people, key=itemgetter('first', 'last'))\n",
    "\n",
    "def multisort_names_2(people):\n",
    "    return sorted(people, key=itemgetter('last', 'first'))\n",
    "\n",
    "print(alphabetize_names(PEOPLE))\n",
    "print(multisort_names(PEOPLE))\n",
    "print(multisort_names_2(PEOPLE))\n"
   ]
  },
  {
   "cell_type": "code",
   "execution_count": null,
   "metadata": {},
   "outputs": [],
   "source": [
    "def sort_by_absolute(numbers):\n",
    "    return sorted(numbers, key=abs)\n",
    "\n",
    "sort_by_absolute([1, 2, -2, -1, 0])\n"
   ]
  },
  {
   "cell_type": "code",
   "execution_count": null,
   "metadata": {},
   "outputs": [],
   "source": [
    "vowels = set('aeiou')\n",
    "\n",
    "def sort_by_vowels(strings):\n",
    "    return sorted(strings, key=lambda s: len(set(s) & vowels))\n",
    "\n",
    "sort_by_vowels(['aeiou', 'aio', 'a', 'b'])\n"
   ]
  },
  {
   "cell_type": "code",
   "execution_count": null,
   "metadata": {},
   "outputs": [],
   "source": [
    "vowels = set('aeiou')\n",
    "\n",
    "def sort_by_all_vowels(strings):\n",
    "    def count_vowels(string):\n",
    "        vowels_in_word = 0\n",
    "        for char in string:\n",
    "            if char in vowels:\n",
    "                vowels_in_word += 1\n",
    "        return vowels_in_word\n",
    "\n",
    "    return sorted(strings, key=count_vowels)\n",
    "\n",
    "sort_by_vowels(['aeiou', 'aaeiou', 'aaaeiou', 'iou'])\n"
   ]
  },
  {
   "cell_type": "code",
   "execution_count": null,
   "metadata": {},
   "outputs": [],
   "source": [
    "def sort_by_sums(list_of_lists):\n",
    "    return sorted(list_of_lists, key=sum)\n",
    "\n",
    "sort_by_sums([[1], [1, 2, 3], [1, 2, 3, 4]])"
   ]
  }
 ]
}