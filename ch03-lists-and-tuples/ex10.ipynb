{
 "metadata": {
  "language_info": {
   "codemirror_mode": {
    "name": "ipython",
    "version": 3
   },
   "file_extension": ".py",
   "mimetype": "text/x-python",
   "name": "python",
   "nbconvert_exporter": "python",
   "pygments_lexer": "ipython3",
   "version": "3.9.0-final"
  },
  "orig_nbformat": 2,
  "kernelspec": {
   "name": "python3",
   "display_name": "Python 3.9.0 64-bit",
   "metadata": {
    "interpreter": {
     "hash": "63fd5069d213b44bf678585dea6b12cceca9941eaf7f819626cde1f2670de90d"
    }
   }
  }
 },
 "nbformat": 4,
 "nbformat_minor": 2,
 "cells": [
  {
   "source": [
    "# Chapter 3 - Lists and Tuples\n",
    "\n",
    "## Exercise 10 - Summing anything"
   ],
   "cell_type": "markdown",
   "metadata": {}
  },
  {
   "cell_type": "code",
   "execution_count": null,
   "metadata": {},
   "outputs": [],
   "source": [
    "def mysum(*args):\n",
    "    if not args:\n",
    "        return args\n",
    "\n",
    "    output = args[0]\n",
    "    for arg in args[1:]:\n",
    "        output += arg\n",
    "\n",
    "    return output\n",
    "\n",
    "print(mysum())\n",
    "print(mysum(1))\n",
    "print(mysum(1, 2))\n",
    "print(mysum(1, 2, 3))\n",
    "print(mysum('a'))\n",
    "print(mysum('a', 'b', 'c'))\n",
    "print(mysum([1]))\n",
    "print(mysum([1, 2, 3]))\n",
    "print(mysum([1, 2, 3], [4, 5, 6]))"
   ]
  }
 ]
}