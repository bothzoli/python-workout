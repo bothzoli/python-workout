{
 "metadata": {
  "language_info": {
   "codemirror_mode": {
    "name": "ipython",
    "version": 3
   },
   "file_extension": ".py",
   "mimetype": "text/x-python",
   "name": "python",
   "nbconvert_exporter": "python",
   "pygments_lexer": "ipython3",
   "version": "3.9.0-final"
  },
  "orig_nbformat": 2,
  "kernelspec": {
   "name": "python3",
   "display_name": "Python 3.9.0 64-bit",
   "metadata": {
    "interpreter": {
     "hash": "c35cf05d645230916840c7e5143c8d8b7ef9951402306ec83266c2ef07dd9f84"
    }
   }
  }
 },
 "nbformat": 4,
 "nbformat_minor": 2,
 "cells": [
  {
   "source": [
    "# Chapter 3 - Lists and Tuples\n",
    "\n",
    "## Exercise 10 - Summing anything\n",
    "\n",
    "- [see also](https://www.python.org/dev/peps/pep-0584/) the new union operator for dictionaries"
   ],
   "cell_type": "markdown",
   "metadata": {}
  },
  {
   "cell_type": "code",
   "execution_count": null,
   "metadata": {},
   "outputs": [],
   "source": [
    "def mysum(*args):\n",
    "    if not args:\n",
    "        return args\n",
    "\n",
    "    output = args[0]\n",
    "    for arg in args[1:]:\n",
    "        output += arg\n",
    "\n",
    "    return output\n",
    "\n",
    "print(mysum())\n",
    "print(mysum(1))\n",
    "print(mysum(1, 2))\n",
    "print(mysum(1, 2, 3))\n",
    "print(mysum('a'))\n",
    "print(mysum('a', 'b', 'c'))\n",
    "print(mysum([1]))\n",
    "print(mysum([1, 2, 3]))\n",
    "print(mysum([1, 2, 3], [4, 5, 6]))\n"
   ]
  },
  {
   "cell_type": "code",
   "execution_count": null,
   "metadata": {},
   "outputs": [],
   "source": [
    "def mysum_bigger_than(pivot, *args):\n",
    "    if not args:\n",
    "        return args\n",
    "\n",
    "    output = 0\n",
    "    for arg in args:\n",
    "        if arg > pivot:\n",
    "            output += arg\n",
    "\n",
    "    return output\n",
    "\n",
    "print(mysum_bigger_than(10, 5, 20, 30, 6))\n"
   ]
  },
  {
   "cell_type": "code",
   "execution_count": null,
   "metadata": {},
   "outputs": [],
   "source": [
    "def sum_numeric(*args):\n",
    "    if not args:\n",
    "        return args\n",
    "\n",
    "    output = 0\n",
    "    for arg in args:\n",
    "        try:\n",
    "            output += int(arg)\n",
    "        except ValueError:\n",
    "            pass\n",
    "\n",
    "    return output\n",
    "\n",
    "print(sum_numeric(10, 20, 'a', '30', 'bcd'))\n"
   ]
  },
  {
   "cell_type": "code",
   "execution_count": null,
   "metadata": {},
   "outputs": [],
   "source": [
    "def combine_dicts(*dictionaries):\n",
    "    output = {}\n",
    "\n",
    "    for dictionary in dictionaries:\n",
    "        for key in dictionary:\n",
    "            if output.get(key):\n",
    "                try:\n",
    "                    output[key].append(dictionary[key])\n",
    "                except AttributeError:\n",
    "                    output[key] = [output[key], dictionary[key]]\n",
    "            else:\n",
    "                output[key] = dictionary[key]\n",
    "    \n",
    "    return output\n",
    "\n",
    "combine_dicts({'a': 10, 'b': 20}, {'b': 30, 'c': 40})\n"
   ]
  }
 ]
}