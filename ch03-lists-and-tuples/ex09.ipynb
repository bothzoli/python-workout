{
 "metadata": {
  "language_info": {
   "codemirror_mode": {
    "name": "ipython",
    "version": 3
   },
   "file_extension": ".py",
   "mimetype": "text/x-python",
   "name": "python",
   "nbconvert_exporter": "python",
   "pygments_lexer": "ipython3",
   "version": "3.8.3-final"
  },
  "orig_nbformat": 2,
  "kernelspec": {
   "name": "python3",
   "display_name": "Python 3"
  }
 },
 "nbformat": 4,
 "nbformat_minor": 2,
 "cells": [
  {
   "source": [
    "# Chapter 3 - Lists and Tuples\n",
    "\n",
    "## Exercise 9 - First-last\n",
    "\n",
    "- sequences in Python:\n",
    "    - `str` immutable sequence of one-character strings\n",
    "    - `list` mutable sequence of any Python type\n",
    "    - `tuple` immutable sequence of any Python types (typically of different types)\n",
    "- [`operator.itemgetter`](https://docs.python.org/3/library/operator.html?#operator.itemgetter) returns a callable object that fetches item from its operand\n",
    "- indexing will return the containing type (e.g. `'asdf'[1]` will return a string)\n",
    "- slice returns the type of the sequence (e.g. `[1, 2, 3][:1]` will return a single element list)"
   ],
   "cell_type": "markdown",
   "metadata": {}
  },
  {
   "cell_type": "code",
   "execution_count": null,
   "metadata": {},
   "outputs": [],
   "source": [
    "import operator\n",
    "\n",
    "f = operator.itemgetter(2)\n",
    "# f(r) return r[2]\n",
    "r = [0, 1, 2, 3]\n",
    "print(f(r))\n",
    "\n",
    "g = operator.itemgetter(2, 3, 1)\n",
    "# g(r) returns tuple (r[2], r[3], r[1])\n",
    "print(g(r))\n"
   ]
  },
  {
   "cell_type": "code",
   "execution_count": null,
   "metadata": {},
   "outputs": [],
   "source": [
    "# First-last\n",
    "\n",
    "def first_last(seq):\n",
    "    return seq[:1] + seq[-1:]\n",
    "\n",
    "\n",
    "print(first_last('asdfqwer'))\n",
    "print(first_last([1, 2, 3, 4, 5, 6]))\n",
    "print(first_last((1, 'a', 2, 'b', 3, 'c')))\n",
    "\n",
    "print(first_last('a'))\n",
    "print(first_last([1]))\n",
    "print(first_last((1,)))\n",
    "\n",
    "print(first_last(''))\n",
    "print(first_last([]))\n",
    "print(first_last(()))\n"
   ]
  },
  {
   "cell_type": "code",
   "execution_count": null,
   "metadata": {},
   "outputs": [],
   "source": [
    "# ''[0] # throws IndexError\n",
    "''[:1] # slice from beginning to the first element (excluding)\n",
    "\n",
    "# ''[-1] # throws IndexError\n",
    "''[-1:] # slice from the last element to the end\n"
   ]
  },
  {
   "cell_type": "code",
   "execution_count": null,
   "metadata": {},
   "outputs": [],
   "source": [
    "def even_odd_sums(seq):\n",
    "    return [sum(seq[::2]), sum(seq[1::2])]\n",
    "\n",
    "even_odd_sums([10, 20, 30, 40, 50, 60])\n"
   ]
  },
  {
   "cell_type": "code",
   "execution_count": null,
   "metadata": {},
   "outputs": [],
   "source": [
    "def plus_minus(seq):\n",
    "    if not seq:\n",
    "        return None\n",
    "    \n",
    "    return seq[0] + sum(seq[1::2]) - sum(seq[2::2])\n",
    "\n",
    "plus_minus([10, 20, 30, 40, 50, 60])\n"
   ]
  },
  {
   "cell_type": "code",
   "execution_count": null,
   "metadata": {},
   "outputs": [],
   "source": [
    "# Create a range of size 3\n",
    "for i in range(3):\n",
    "    print(i)\n",
    "\n",
    "# Get the minimum of two somethings (lists in this case)\n",
    "print(min([1, 2, 3], [0, 1, 2, 3, 4]))\n",
    "\n",
    "# Get the minimum of two somethings by comparing using the len function\n",
    "print(min([1, 2, 3], [0, 1, 2, 3, 4], key=len))\n",
    "\n",
    "# Get the length of the shortest of two somethings compared using the len function\n",
    "print(len(min([1, 2, 3], [0, 1, 2, 3, 4], key=len)))\n",
    "\n",
    "# Create a range of the size of the shortest lists\n",
    "for i in range(len(min([1, 2, 3], [0, 1, 2, 3, 4], key=len))):\n",
    "    print(i)\n",
    "\n",
    "def myzip(*iterables):\n",
    "    return [tuple(iterable[i] for iterable in iterables)\n",
    "        for i in range(len(min(iterables, key=len)))]\n",
    "\n",
    "myzip([1, 2, 3], 'abc')\n"
   ]
  }
 ]
}