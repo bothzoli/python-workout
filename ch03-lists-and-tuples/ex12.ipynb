{
 "metadata": {
  "language_info": {
   "codemirror_mode": {
    "name": "ipython",
    "version": 3
   },
   "file_extension": ".py",
   "mimetype": "text/x-python",
   "name": "python",
   "nbconvert_exporter": "python",
   "pygments_lexer": "ipython3",
   "version": "3.8.3-final"
  },
  "orig_nbformat": 2,
  "kernelspec": {
   "name": "python3",
   "display_name": "Python 3"
  }
 },
 "nbformat": 4,
 "nbformat_minor": 2,
 "cells": [
  {
   "source": [
    "# Chapter 3 - Lists and Tuples\n",
    "\n",
    "## Exercise 12 - Word with most repeated letters\n",
    "\n",
    "- [`collections.Counter`](https://docs.python.org/3/library/collections.html#collections.Counter) a dictionary subclass for counting objects\n",
    "- [`collections.Counter.most_common`](https://docs.python.org/3/library/collections.html?#collections.Counter.most_common) returns a list of the _n_ most \n",
    "common elements\n"
   ],
   "cell_type": "markdown",
   "metadata": {}
  },
  {
   "cell_type": "code",
   "execution_count": null,
   "metadata": {},
   "outputs": [],
   "source": [
    "# Get word with most repeated letters\n",
    "\n",
    "from collections import Counter\n",
    "\n",
    "def most_repeated_letter_count(word):\n",
    "    return Counter(word).most_common(1)[0][1]\n",
    "\n",
    "def most_repeating_word(word_list):\n",
    "    # return sorted(word_list, key=most_repeated_letter_count, reverse=True)[0]\n",
    "    return max(word_list, key=most_repeated_letter_count)\n",
    "\n",
    "# print(most_repeated_letter_count('elementary'))\n",
    "print(most_repeating_word(['this', 'is', 'an', 'elementary', 'test', 'example']))\n"
   ]
  },
  {
   "cell_type": "code",
   "execution_count": null,
   "metadata": {},
   "outputs": [],
   "source": [
    "# Get word with most repeated vowels\n",
    "\n",
    "from collections import Counter\n",
    "\n",
    "def vowelize(word):\n",
    "    return ''.join(letter for letter in word.lower() if letter in ['a', 'e', 'i', 'o', 'u'])\n",
    "\n",
    "def most_repeated_vowel_count(word):\n",
    "    return Counter(vowelize(word)).most_common(1)[0][1]\n",
    "\n",
    "def most_repeating_word(word_list):\n",
    "    return max(word_list, key=most_repeated_vowel_count)\n",
    "\n",
    "print(most_repeating_word(['this', 'is', 'an', 'elementary', 'test']))\n"
   ]
  },
  {
   "cell_type": "code",
   "execution_count": null,
   "metadata": {},
   "outputs": [],
   "source": [
    "# Read unix /etc/passwd file\n",
    "\n",
    "from collections import Counter\n",
    "from operator import itemgetter\n",
    "\n",
    "def get_shells(file_path):\n",
    "    shells = Counter((one_line.split(':')[-1].strip())\n",
    "        for one_line in open(file_path)\n",
    "        if not one_line.startswith('#')).items()\n",
    "\n",
    "    return sorted(shells, key=itemgetter(1), reverse=True)\n",
    "\n",
    "get_shells('./etc.passwd')\n"
   ]
  },
  {
   "cell_type": "code",
   "execution_count": null,
   "metadata": {},
   "outputs": [],
   "source": [
    "# Read unix /etc/passwd file\n",
    "\n",
    "from collections import Counter\n",
    "from operator import itemgetter\n",
    "\n",
    "def get_shells(file_path):\n",
    "    shells = {}\n",
    "    for one_line in open(file_path):\n",
    "        if one_line.startswith(('#', '\\n')):\n",
    "            continue\n",
    "\n",
    "        user_name, *_, shell = one_line.strip().split(':')\n",
    "\n",
    "        try:\n",
    "            shells[shell].append(user_name)\n",
    "        except KeyError:\n",
    "            shells[shell] = [user_name]\n",
    "\n",
    "    # return {k: v for k, v in sorted(shells.items(), key= lambda item: len(item[1]), reverse=True)}\n",
    "    return sorted(shells.items(), key=lambda item: len(item[1]), reverse=True)\n",
    "\n",
    "get_shells('./etc.passwd')\n"
   ]
  }
 ]
}