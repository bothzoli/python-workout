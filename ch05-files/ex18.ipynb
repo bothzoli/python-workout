{
 "metadata": {
  "language_info": {
   "codemirror_mode": {
    "name": "ipython",
    "version": 3
   },
   "file_extension": ".py",
   "mimetype": "text/x-python",
   "name": "python",
   "nbconvert_exporter": "python",
   "pygments_lexer": "ipython3",
   "version": "3.9.0-final"
  },
  "orig_nbformat": 2,
  "kernelspec": {
   "name": "python3",
   "display_name": "Python 3.9.0 64-bit",
   "metadata": {
    "interpreter": {
     "hash": "63fd5069d213b44bf678585dea6b12cceca9941eaf7f819626cde1f2670de90d"
    }
   }
  }
 },
 "nbformat": 4,
 "nbformat_minor": 2,
 "cells": [
  {
   "source": [
    "# Chapter 5 - Files"
   ],
   "cell_type": "markdown",
   "metadata": {}
  },
  {
   "cell_type": "code",
   "execution_count": null,
   "metadata": {},
   "outputs": [],
   "source": [
    "# Last line\n",
    "def get_last_line(file_path):\n",
    "    last_line = \"\"\n",
    "\n",
    "    for current_line in open(file_path):\n",
    "        last_line = current_line\n",
    "    \n",
    "    return current_line\n",
    "\n",
    "get_last_line(\"input.txt\")\n"
   ]
  },
  {
   "cell_type": "code",
   "execution_count": null,
   "metadata": {},
   "outputs": [],
   "source": [
    "def sum_all_numbers(file_path):\n",
    "    sum = 0\n",
    "\n",
    "    for current_line in open(file_path):\n",
    "        for word in current_line.split(\" \"):\n",
    "            if word.strip().isnumeric():\n",
    "                sum += int(word)\n",
    "    \n",
    "    return sum\n",
    "\n",
    "sum_all_numbers(\"input.txt\")\n"
   ]
  }
 ]
}